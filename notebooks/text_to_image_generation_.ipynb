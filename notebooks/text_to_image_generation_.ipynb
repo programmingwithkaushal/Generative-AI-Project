{
  "cells": [
    {
      "cell_type": "markdown",
      "metadata": {
        "id": "Mzb-tRqnVMUS"
      },
      "source": [
        "This is the Basic Code for image generation\n"
      ]
    },
    {
      "cell_type": "markdown",
      "metadata": {
        "id": "Kdkz-Qj9VRJS"
      },
      "source": [
        "Adding frongted and UI features"
      ]
    },
    {
      "cell_type": "code",
      "execution_count": null,
      "metadata": {
        "id": "o_OG8L28Va3K"
      },
      "outputs": [],
      "source": [
        "import torch\n",
        "import gradio as gr\n",
        "import random\n",
        "import PIL.Image"
      ]
    },
    {
      "cell_type": "markdown",
      "metadata": {
        "id": "PgxKyOdhMXre"
      },
      "source": [
        "Loading the Stable  Diffusion XL Pipeline"
      ]
    },
    {
      "cell_type": "code",
      "source": [
        "# Load Stable Diffusion XL Pipeline\n",
        "from diffusers import StableDiffusionXLPipeline\n",
        "pipe = StableDiffusionXLPipeline.from_pretrained(\n",
        "    \"stabilityai/stable-diffusion-xl-base-1.0\",\n",
        "    torch_dtype=torch.float16 if torch.cuda.is_available() else torch.float32,\n",
        "    variant=\"fp16\" if torch.cuda.is_available() else None,\n",
        ")\n",
        "pipe = pipe.to(\"cuda\" if torch.cuda.is_available() else \"cpu\")"
      ],
      "metadata": {
        "id": "j61PQqlwOtpV"
      },
      "execution_count": null,
      "outputs": []
    },
    {
      "cell_type": "code",
      "execution_count": null,
      "metadata": {
        "id": "dthVCcGGVlBM"
      },
      "outputs": [],
      "source": [
        "# Image generation function\n",
        "def generate_image(prompt, style, aspect_ratio, negative_prompt):\n",
        "    # Adjust prompt with selected style\n",
        "    style_descriptions = {\n",
        "        \"Realistic\": \"highly detailed, photorealistic, ultra sharp\",\n",
        "        \"Anime\": \"anime style, cel shading, vibrant colors\",\n",
        "        \"Cyberpunk\": \"futuristic, neon lighting, cyberpunk aesthetics\",\n",
        "        \"Sketch\": \"black and white, pencil sketch, line art\",\n",
        "        \"Oil Painting\": \"oil painting style, brush strokes, canvas texture\"\n",
        "    }\n",
        "    styled_prompt = f\"{prompt}, {style_descriptions.get(style, '')}\"\n",
        "\n",
        "    width, height = {\n",
        "        \"1:1\": (768, 768),\n",
        "        \"16:9\": (1024, 576),\n",
        "        \"9:16\": (576, 1024)\n",
        "    }.get(aspect_ratio, (768, 768))\n",
        "\n",
        "    # Run model\n",
        "    image = pipe(\n",
        "        prompt=styled_prompt,\n",
        "        negative_prompt=negative_prompt,\n",
        "        width=width,\n",
        "        height=height,\n",
        "        guidance_scale=7.5,\n",
        "        num_inference_steps=30\n",
        "    ).images[0]\n",
        "\n",
        "    return image"
      ]
    },
    {
      "cell_type": "code",
      "execution_count": null,
      "metadata": {
        "id": "k1MxiUvFVpwj"
      },
      "outputs": [],
      "source": [
        "# Enhance prompt\n",
        "def enhance_prompt(prompt):\n",
        "    return f\"{prompt}, extremely detailed, trending on ArtStation, masterpiece\"\n",
        "\n",
        "# Simulate login (not secure, just frontend mock)\n",
        "def simulate_login(username, password):\n",
        "    if username and password:\n",
        "        return f\"Welcome, {username}!\", gr.update(visible=True)\n",
        "    return \"Invalid credentials.\", gr.update(visible=False)"
      ]
    },
    {
      "cell_type": "code",
      "execution_count": null,
      "metadata": {
        "colab": {
          "base_uri": "https://localhost:8080/",
          "height": 650
        },
        "id": "ehJnpemydo1G",
        "outputId": "d766b541-ee0c-4337-f84a-9b126acf8a16"
      },
      "outputs": [
        {
          "output_type": "stream",
          "name": "stdout",
          "text": [
            "It looks like you are running Gradio on a hosted a Jupyter notebook. For the Gradio app to work, sharing must be enabled. Automatically setting `share=True` (you can turn this off by setting `share=False` in `launch()` explicitly).\n",
            "\n",
            "Colab notebook detected. To show errors in colab notebook, set debug=True in launch()\n",
            "* Running on public URL: https://5154509402c3792581.gradio.live\n",
            "\n",
            "This share link expires in 1 week. For free permanent hosting and GPU upgrades, run `gradio deploy` from the terminal in the working directory to deploy to Hugging Face Spaces (https://huggingface.co/spaces)\n"
          ]
        },
        {
          "output_type": "display_data",
          "data": {
            "text/plain": [
              "<IPython.core.display.HTML object>"
            ],
            "text/html": [
              "<div><iframe src=\"https://5154509402c3792581.gradio.live\" width=\"100%\" height=\"500\" allow=\"autoplay; camera; microphone; clipboard-read; clipboard-write;\" frameborder=\"0\" allowfullscreen></iframe></div>"
            ]
          },
          "metadata": {}
        },
        {
          "output_type": "execute_result",
          "data": {
            "text/plain": []
          },
          "metadata": {},
          "execution_count": 5
        }
      ],
      "source": [
        "# Build Gradio interface\n",
        "with gr.Blocks(css=\"footer {visibility: hidden}\") as demo:\n",
        "    gr.Markdown(\"## 🎨 AI Text-to-Image Generator - SDXL Edition\")\n",
        "\n",
        "    with gr.Tab(\"🖼️ Generate Image\"):\n",
        "        with gr.Row():\n",
        "            with gr.Column(scale=2):\n",
        "                prompt = gr.Textbox(label=\"Prompt\", placeholder=\"e.g., A wizard standing on a cliff...\")\n",
        "                enhance_btn = gr.Button(\"✨ Enhance Prompt\")\n",
        "                style = gr.Dropdown([\"Realistic\", \"Anime\", \"Cyberpunk\", \"Sketch\", \"Oil Painting\"], label=\"Style\", value=\"Realistic\")\n",
        "                aspect = gr.Radio([\"1:1\", \"16:9\", \"9:16\"], label=\"Aspect Ratio\", value=\"1:1\")\n",
        "                neg_prompt = gr.Textbox(label=\"Negative Prompt (optional)\", placeholder=\"e.g., blurry, distorted, low quality\")\n",
        "                generate_btn = gr.Button(\"Generate 🔥\")\n",
        "\n",
        "            with gr.Column(scale=3):\n",
        "                output_img = gr.Image(label=\"Generated Image\", type=\"pil\")\n",
        "                download_btn = gr.Button(\"📥 Download Image\")\n",
        "                history_gallery = gr.Gallery(label=\"🕓 Generation History\", show_label=True, columns=3)\n",
        "\n",
        "    # with gr.Tab(\"📋 Login\"):\n",
        "    #     username = gr.Textbox(label=\"Username\")\n",
        "    #     password = gr.Textbox(label=\"Password\", type=\"password\")\n",
        "    #     login_btn = gr.Button(\"🔐 Login\")\n",
        "    #     welcome_text = gr.Textbox(label=\"Status\", interactive=False)\n",
        "    #     login_panel = gr.Group(visible=False)\n",
        "\n",
        "    #     login_btn.click(fn=simulate_login, inputs=[username, password], outputs=[welcome_text, login_panel])\n",
        "\n",
        "    # with login_panel:\n",
        "    #     gr.Markdown(\"✅ You are now logged in. Start generating awesome images!\")\n",
        "\n",
        "    # Event bindings\n",
        "    enhance_btn.click(fn=enhance_prompt, inputs=prompt, outputs=prompt)\n",
        "\n",
        "    image_list = []\n",
        "\n",
        "    def generate_and_save(prompt, style, aspect, neg_prompt):\n",
        "        img = generate_image(prompt, style, aspect, neg_prompt)\n",
        "        image_list.append(img)\n",
        "        return img, image_list\n",
        "\n",
        "    generate_btn.click(fn=generate_and_save, inputs=[prompt, style, aspect, neg_prompt], outputs=[output_img, history_gallery])\n",
        "\n",
        "    # Allow download (for full functionality, you could create a file link if needed)\n",
        "    def download_image(img):\n",
        "        path = \"generated_image.png\"\n",
        "        img.save(path)\n",
        "        return path\n",
        "\n",
        "    download_btn.click(fn=download_image, inputs=output_img, outputs=gr.File(label=\"Download Link\"))\n",
        "\n",
        "# Launch app\n",
        "demo.launch()\n"
      ]
    },
    {
      "cell_type": "code",
      "execution_count": null,
      "metadata": {
        "id": "DWlfud0PCUnV"
      },
      "outputs": [],
      "source": []
    }
  ],
  "metadata": {
    "accelerator": "GPU",
    "colab": {
      "gpuType": "T4",
      "provenance": []
    },
    "kernelspec": {
      "display_name": "Python 3",
      "name": "python3"
    },
    "language_info": {
      "name": "python"
    }
  },
  "nbformat": 4,
  "nbformat_minor": 0
}